{
  "metadata": {
    "kernelspec": {
      "name": "python",
      "display_name": "Python (Pyodide)",
      "language": "python"
    },
    "language_info": {
      "codemirror_mode": {
        "name": "python",
        "version": 3
      },
      "file_extension": ".py",
      "mimetype": "text/x-python",
      "name": "python",
      "nbconvert_exporter": "python",
      "pygments_lexer": "ipython3",
      "version": "3.8"
    }
  },
  "nbformat_minor": 4,
  "nbformat": 4,
  "cells": [
    {
      "cell_type": "code",
      "source": "def getBondPrice(y, face, couponRate, m, ppy=1):\n    coupon= face*couponRate/ppy\n    periods=m*ppy\n    discount_rate=y/ppy\n    pv_coupon= sum([coupon/(1+discount_rate)**t for t in range(1,periods+1)])\n    pv_face=face/(1+discount_rate)**periods\n    bondPrice = pv_coupon+pv_face\n    return bondPrice\ny =0.03\nface=2000000\ncouponRate=0.04\nm=10\nppy=1\nprice = getBondPrice(y, face, couponRate, m, ppy)\nprint (f\"Bondprice: ${price:.2f}\")",
      "metadata": {
        "trusted": true
      },
      "outputs": [
        {
          "name": "stdout",
          "text": "Bondprice: $2170604.06\n",
          "output_type": "stream"
        }
      ],
      "execution_count": 46
    }
  ]
}