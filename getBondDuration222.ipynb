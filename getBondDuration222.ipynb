{
  "metadata": {
    "kernelspec": {
      "name": "python",
      "display_name": "Python (Pyodide)",
      "language": "python"
    },
    "language_info": {
      "codemirror_mode": {
        "name": "python",
        "version": 3
      },
      "file_extension": ".py",
      "mimetype": "text/x-python",
      "name": "python",
      "nbconvert_exporter": "python",
      "pygments_lexer": "ipython3",
      "version": "3.8"
    }
  },
  "nbformat_minor": 4,
  "nbformat": 4,
  "cells": [
    {
      "cell_type": "code",
      "source": "def getBondDuration(y, face, couponRate, m, ppy=1):\n    coupon = face * couponRate / ppy\n    periods = m * ppy\n    discount_rate = y / ppy\n    pv_total = 0\n    pvcf_t_total = 0\n    for t in range(1, periods + 1):\n        pv_cf = coupon / (1 + discount_rate)**t\n        pvcf_t = pv_cf * t\n        pv_total += pv_cf\n        pvcf_t_total += pvcf_t\n    pv_face = face / (1 + discount_rate)**periods\n    pvcf_face = pv_face * periods\n    pv_total += pv_face\n    pvcf_t_total += pvcf_face\n    bondDuration = pvcf_t_total / pv_total\n    return bondDuration\n\nduration = getBondDuration(y, face, couponRate, m, ppy)\nprint(f\"Bond Duration: {duration:.2f}\")\n",
      "metadata": {
        "trusted": true
      },
      "outputs": [
        {
          "name": "stdout",
          "text": "Bond Duration: 8.51\n",
          "output_type": "stream"
        }
      ],
      "execution_count": 3
    },
    {
      "cell_type": "code",
      "source": "# test\ny = 0.03\nface = 2000000\ncouponRate = 0.04\nm = 10\nppy = 1\n",
      "metadata": {
        "trusted": true
      },
      "outputs": [],
      "execution_count": 4
    },
    {
      "cell_type": "code",
      "source": "duration = getBondDuration(y, face, couponRate, m, ppy)\nprint(f\"Bond Duration: {duration:.2f}\")",
      "metadata": {
        "trusted": true
      },
      "outputs": [
        {
          "name": "stdout",
          "text": "Bond Duration: 8.51\n",
          "output_type": "stream"
        }
      ],
      "execution_count": 5
    }
  ]
}