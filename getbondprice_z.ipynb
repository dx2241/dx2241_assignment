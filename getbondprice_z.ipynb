{
  "metadata": {
    "kernelspec": {
      "name": "python",
      "display_name": "Python (Pyodide)",
      "language": "python"
    },
    "language_info": {
      "codemirror_mode": {
        "name": "python",
        "version": 3
      },
      "file_extension": ".py",
      "mimetype": "text/x-python",
      "name": "python",
      "nbconvert_exporter": "python",
      "pygments_lexer": "ipython3",
      "version": "3.8"
    }
  },
  "nbformat_minor": 4,
  "nbformat": 4,
  "cells": [
    {
      "cell_type": "code",
      "source": "def getBondPrice_Z(face, couponRate, times, yc):\n    coupon = face * couponRate\n    bondPrice = 0\n    for t, y_t in zip(times, yc):\n        if t == times[-1]:\n            cf = coupon + face\n        else:\n            cf = coupon\n        pv_cf = cf / (1 + y_t)**t\n        bondPrice += pv_cf\n    return bondPrice\n#test\nyc = [0.010, 0.015, 0.020, 0.025, 0.030]  \ntimes = [1, 1.5, 3, 4, 7] \nface = 2000000 \ncouponRate = 0.04 \n\n# bondprice\nprice = getBondPrice_Z(face, couponRate, times, yc)\nprint(f\"Bond price: ${price:,.2f}\")",
      "metadata": {
        "trusted": true
      },
      "outputs": [
        {
          "name": "stdout",
          "text": "Bond price: $1,996,533.27\n",
          "output_type": "stream"
        }
      ],
      "execution_count": 1
    }
  ]
}